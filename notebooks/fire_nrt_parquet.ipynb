{
 "cells": [
  {
   "cell_type": "code",
   "execution_count": 1,
   "id": "8ddfa3b6-fbaa-450f-859c-9b46518210a3",
   "metadata": {},
   "outputs": [],
   "source": [
    "import geopandas as gpd\n",
    "import pandas as pd\n",
    "import glob\n",
    "import pyarrow.parquet as pq"
   ]
  },
  {
   "cell_type": "code",
   "execution_count": 2,
   "id": "dadce7ac-bc3c-4fcd-87c2-fcc9add67de2",
   "metadata": {},
   "outputs": [
    {
     "data": {
      "text/plain": [
       "['lf_perimeter_nrt_borealna.gpkg',\n",
       " 'lf_perimeter_nrt_conus.gpkg',\n",
       " 'lf_perimeter_nrt_russiaeast.gpkg']"
      ]
     },
     "execution_count": 2,
     "metadata": {},
     "output_type": "execute_result"
    }
   ],
   "source": [
    "gpkg_files = glob.glob(\"*.gpkg\")\n",
    "gpkg_files"
   ]
  },
  {
   "cell_type": "code",
   "execution_count": 4,
   "id": "bc400326-7eea-4341-b116-fa82eb12e2a1",
   "metadata": {
    "scrolled": true
   },
   "outputs": [
    {
     "data": {
      "text/html": [
       "<div>\n",
       "<style scoped>\n",
       "    .dataframe tbody tr th:only-of-type {\n",
       "        vertical-align: middle;\n",
       "    }\n",
       "\n",
       "    .dataframe tbody tr th {\n",
       "        vertical-align: top;\n",
       "    }\n",
       "\n",
       "    .dataframe thead th {\n",
       "        text-align: right;\n",
       "    }\n",
       "</style>\n",
       "<table border=\"1\" class=\"dataframe\">\n",
       "  <thead>\n",
       "    <tr style=\"text-align: right;\">\n",
       "      <th></th>\n",
       "      <th>fireID</th>\n",
       "      <th>n_pixels</th>\n",
       "      <th>n_newpixels</th>\n",
       "      <th>farea</th>\n",
       "      <th>fperim</th>\n",
       "      <th>flinelen</th>\n",
       "      <th>duration</th>\n",
       "      <th>pixden</th>\n",
       "      <th>meanFRP</th>\n",
       "      <th>t</th>\n",
       "      <th>primarykey</th>\n",
       "      <th>region</th>\n",
       "      <th>geom_counts</th>\n",
       "      <th>low_confidence_grouping</th>\n",
       "      <th>geometry</th>\n",
       "    </tr>\n",
       "  </thead>\n",
       "  <tbody>\n",
       "    <tr>\n",
       "      <th>3797</th>\n",
       "      <td>16</td>\n",
       "      <td>20</td>\n",
       "      <td>0</td>\n",
       "      <td>4.538242</td>\n",
       "      <td>11.666256</td>\n",
       "      <td>4.094598</td>\n",
       "      <td>3.0</td>\n",
       "      <td>4.406993</td>\n",
       "      <td>NaN</td>\n",
       "      <td>2025-01-09</td>\n",
       "      <td>BorealNA|16.0|2025-01-12T12:00:00</td>\n",
       "      <td>BorealNA</td>\n",
       "      <td>NaN</td>\n",
       "      <td>0</td>\n",
       "      <td>POLYGON ((-118.23333 54.15186, -118.23333 54.1...</td>\n",
       "    </tr>\n",
       "    <tr>\n",
       "      <th>3798</th>\n",
       "      <td>16</td>\n",
       "      <td>20</td>\n",
       "      <td>10</td>\n",
       "      <td>4.538242</td>\n",
       "      <td>11.666256</td>\n",
       "      <td>4.094598</td>\n",
       "      <td>3.0</td>\n",
       "      <td>4.406993</td>\n",
       "      <td>1.056</td>\n",
       "      <td>2025-01-09</td>\n",
       "      <td>BorealNA|16.0|2025-01-09T00:00:00</td>\n",
       "      <td>BorealNA</td>\n",
       "      <td>NaN</td>\n",
       "      <td>0</td>\n",
       "      <td>POLYGON ((-118.23333 54.15186, -118.23333 54.1...</td>\n",
       "    </tr>\n",
       "    <tr>\n",
       "      <th>3799</th>\n",
       "      <td>16</td>\n",
       "      <td>20</td>\n",
       "      <td>0</td>\n",
       "      <td>4.538242</td>\n",
       "      <td>11.666256</td>\n",
       "      <td>4.094598</td>\n",
       "      <td>3.0</td>\n",
       "      <td>4.406993</td>\n",
       "      <td>NaN</td>\n",
       "      <td>2025-01-09</td>\n",
       "      <td>BorealNA|16.0|2025-01-09T12:00:00</td>\n",
       "      <td>BorealNA</td>\n",
       "      <td>NaN</td>\n",
       "      <td>0</td>\n",
       "      <td>POLYGON ((-118.23333 54.15186, -118.23333 54.1...</td>\n",
       "    </tr>\n",
       "    <tr>\n",
       "      <th>3800</th>\n",
       "      <td>16</td>\n",
       "      <td>20</td>\n",
       "      <td>0</td>\n",
       "      <td>4.538242</td>\n",
       "      <td>11.666256</td>\n",
       "      <td>4.094598</td>\n",
       "      <td>3.0</td>\n",
       "      <td>4.406993</td>\n",
       "      <td>NaN</td>\n",
       "      <td>2025-01-09</td>\n",
       "      <td>BorealNA|16.0|2025-01-10T00:00:00</td>\n",
       "      <td>BorealNA</td>\n",
       "      <td>NaN</td>\n",
       "      <td>0</td>\n",
       "      <td>POLYGON ((-118.23333 54.15186, -118.23333 54.1...</td>\n",
       "    </tr>\n",
       "    <tr>\n",
       "      <th>3801</th>\n",
       "      <td>16</td>\n",
       "      <td>20</td>\n",
       "      <td>0</td>\n",
       "      <td>4.538242</td>\n",
       "      <td>11.666256</td>\n",
       "      <td>4.094598</td>\n",
       "      <td>3.0</td>\n",
       "      <td>4.406993</td>\n",
       "      <td>NaN</td>\n",
       "      <td>2025-01-09</td>\n",
       "      <td>BorealNA|16.0|2025-01-10T12:00:00</td>\n",
       "      <td>BorealNA</td>\n",
       "      <td>NaN</td>\n",
       "      <td>0</td>\n",
       "      <td>POLYGON ((-118.23333 54.15186, -118.23333 54.1...</td>\n",
       "    </tr>\n",
       "  </tbody>\n",
       "</table>\n",
       "</div>"
      ],
      "text/plain": [
       "      fireID  n_pixels  n_newpixels     farea     fperim  flinelen  duration  \\\n",
       "3797      16        20            0  4.538242  11.666256  4.094598       3.0   \n",
       "3798      16        20           10  4.538242  11.666256  4.094598       3.0   \n",
       "3799      16        20            0  4.538242  11.666256  4.094598       3.0   \n",
       "3800      16        20            0  4.538242  11.666256  4.094598       3.0   \n",
       "3801      16        20            0  4.538242  11.666256  4.094598       3.0   \n",
       "\n",
       "        pixden  meanFRP          t                         primarykey  \\\n",
       "3797  4.406993      NaN 2025-01-09  BorealNA|16.0|2025-01-12T12:00:00   \n",
       "3798  4.406993    1.056 2025-01-09  BorealNA|16.0|2025-01-09T00:00:00   \n",
       "3799  4.406993      NaN 2025-01-09  BorealNA|16.0|2025-01-09T12:00:00   \n",
       "3800  4.406993      NaN 2025-01-09  BorealNA|16.0|2025-01-10T00:00:00   \n",
       "3801  4.406993      NaN 2025-01-09  BorealNA|16.0|2025-01-10T12:00:00   \n",
       "\n",
       "        region  geom_counts  low_confidence_grouping  \\\n",
       "3797  BorealNA          NaN                        0   \n",
       "3798  BorealNA          NaN                        0   \n",
       "3799  BorealNA          NaN                        0   \n",
       "3800  BorealNA          NaN                        0   \n",
       "3801  BorealNA          NaN                        0   \n",
       "\n",
       "                                               geometry  \n",
       "3797  POLYGON ((-118.23333 54.15186, -118.23333 54.1...  \n",
       "3798  POLYGON ((-118.23333 54.15186, -118.23333 54.1...  \n",
       "3799  POLYGON ((-118.23333 54.15186, -118.23333 54.1...  \n",
       "3800  POLYGON ((-118.23333 54.15186, -118.23333 54.1...  \n",
       "3801  POLYGON ((-118.23333 54.15186, -118.23333 54.1...  "
      ]
     },
     "execution_count": 4,
     "metadata": {},
     "output_type": "execute_result"
    }
   ],
   "source": [
    "gdfs = [gpd.read_file(f) for f in gpkg_files]\n",
    "combined_gdf = pd.concat(gdfs, ignore_index=True)\n",
    "combined_gdf['fireID'] = combined_gdf['fireID'].astype(int)\n",
    "combined_gdf.set_crs(epsg=2163, inplace=True)\n",
    "combined_gdf = combined_gdf.to_crs(4326)\n",
    "combined_gdf = combined_gdf.sort_values(['fireID', 't'], ascending=[True, False])\n",
    "\n",
    "#move fireid to the first column\n",
    "fire_id = combined_gdf.pop(\"fireID\")\n",
    "\n",
    "# Insert the column at the front (index 0)\n",
    "combined_gdf.insert(0, \"fireID\", fire_id)\n",
    "\n",
    "# set geometry column\n",
    "combined_gdf = combined_gdf.set_geometry(\"geometry\")\n",
    "combined_gdf.head()"
   ]
  },
  {
   "cell_type": "code",
   "execution_count": 5,
   "id": "00bf17f6-2d84-42b8-8378-581a10b2f751",
   "metadata": {},
   "outputs": [
    {
     "data": {
      "text/plain": [
       "42384"
      ]
     },
     "execution_count": 5,
     "metadata": {},
     "output_type": "execute_result"
    }
   ],
   "source": [
    "len(combined_gdf)"
   ]
  },
  {
   "cell_type": "code",
   "execution_count": 6,
   "id": "8021a151-49b4-4e5c-8688-fde31dfb75d3",
   "metadata": {},
   "outputs": [
    {
     "data": {
      "text/plain": [
       "41794"
      ]
     },
     "execution_count": 6,
     "metadata": {},
     "output_type": "execute_result"
    }
   ],
   "source": [
    "filtered_gdf = combined_gdf[combined_gdf.geometry.is_valid]\n",
    "len(filtered_gdf)"
   ]
  },
  {
   "cell_type": "code",
   "execution_count": 7,
   "id": "ee430b00-2465-4618-a25d-3e3b1134d4e6",
   "metadata": {},
   "outputs": [],
   "source": [
    "filtered_gdf.to_parquet(\n",
    "    \"lf_perimeter_nrt_all.parquet\",\n",
    "    geometry_encoding=\"WKB\",\n",
    "    schema_version=\"1.1.0\",\n",
    "    compression=\"brotli\",\n",
    "    row_group_size=122880, #https://duckdb.org/docs/stable/guides/performance/file_formats.html#microbenchmark-running-aggregation-query-at-different-row-group-sizes\n",
    "    sorting_columns=[pq.SortingColumn(0)],\n",
    ")"
   ]
  },
  {
   "cell_type": "code",
   "execution_count": null,
   "id": "ca77dc9f-61ae-4853-afd1-0c6c2b3f1a18",
   "metadata": {},
   "outputs": [],
   "source": []
  },
  {
   "cell_type": "code",
   "execution_count": null,
   "id": "a6b8ca0c-30a9-4c7f-bc6a-ca3a1fd31f60",
   "metadata": {},
   "outputs": [],
   "source": []
  },
  {
   "cell_type": "code",
   "execution_count": null,
   "id": "ce7f8815-890d-4dc0-8bba-fa59c34e6d12",
   "metadata": {},
   "outputs": [],
   "source": []
  }
 ],
 "metadata": {
  "kernelspec": {
   "display_name": "Python 3 (ipykernel)",
   "language": "python",
   "name": "python3"
  },
  "language_info": {
   "codemirror_mode": {
    "name": "ipython",
    "version": 3
   },
   "file_extension": ".py",
   "mimetype": "text/x-python",
   "name": "python",
   "nbconvert_exporter": "python",
   "pygments_lexer": "ipython3",
   "version": "3.12.7"
  }
 },
 "nbformat": 4,
 "nbformat_minor": 5
}
